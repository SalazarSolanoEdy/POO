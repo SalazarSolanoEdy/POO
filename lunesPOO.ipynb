{
  "nbformat": 4,
  "nbformat_minor": 0,
  "metadata": {
    "colab": {
      "provenance": [],
      "authorship_tag": "ABX9TyMD3hZtwdRcFd0FEaMN/8RZ",
      "include_colab_link": true
    },
    "kernelspec": {
      "name": "python3",
      "display_name": "Python 3"
    },
    "language_info": {
      "name": "python"
    }
  },
  "cells": [
    {
      "cell_type": "markdown",
      "metadata": {
        "id": "view-in-github",
        "colab_type": "text"
      },
      "source": [
        "<a href=\"https://colab.research.google.com/github/SalazarSolanoEdy/POO/blob/main/lunesPOO.ipynb\" target=\"_parent\"><img src=\"https://colab.research.google.com/assets/colab-badge.svg\" alt=\"Open In Colab\"/></a>"
      ]
    },
    {
      "cell_type": "code",
      "execution_count": 1,
      "metadata": {
        "colab": {
          "base_uri": "https://localhost:8080/"
        },
        "id": "4aTFL-UR6lba",
        "outputId": "11a05885-d8e8-4436-d4e0-8c546fe866ca"
      },
      "outputs": [
        {
          "output_type": "stream",
          "name": "stdout",
          "text": [
            "Hola Mundo\n"
          ]
        }
      ],
      "source": [
        "# Esto es un comentario\n",
        "print(\"Hola Mundo\")  # Esto imprime \"Hola Mundo\"\n"
      ]
    },
    {
      "cell_type": "code",
      "source": [
        "print(\"Hola\", \"Mundo\")\n",
        " \n",
        "print(\"Hola\" + \"Mundo\")\n",
        " \n",
        "print(\"Hola\", \"Mundo\", sep=\"-\")  # Imprime: Hola-Mundo\n",
        " \n",
        "print(\"Hola\", end=\"\")\n",
        "print(\"Mundo\")  # Imprime: HolaMundo\n"
      ],
      "metadata": {
        "colab": {
          "base_uri": "https://localhost:8080/"
        },
        "id": "F8WmHr497JxB",
        "outputId": "f4f8d5e9-6719-4e23-fb9e-3389fba352b4"
      },
      "execution_count": 2,
      "outputs": [
        {
          "output_type": "stream",
          "name": "stdout",
          "text": [
            "Hola Mundo\n",
            "HolaMundo\n",
            "Hola-Mundo\n",
            "HolaMundo\n"
          ]
        }
      ]
    },
    {
      "cell_type": "code",
      "source": [
        "nombre = \"José\"\n",
        "carrera = \"ICO, la mejor\"\n",
        "print(\"Mi nombre es {} y estudio {} en la FES Aragón\".format(nombre, carrera))"
      ],
      "metadata": {
        "colab": {
          "base_uri": "https://localhost:8080/"
        },
        "id": "wYMkbjdH7o85",
        "outputId": "6869e51c-f86d-481e-d40c-602320c0c691"
      },
      "execution_count": 3,
      "outputs": [
        {
          "output_type": "stream",
          "name": "stdout",
          "text": [
            "Mi nombre es José y estudio ICO, la mejor en la FES Aragón\n"
          ]
        }
      ]
    },
    {
      "cell_type": "code",
      "source": [
        "# Operadores aritméticos\n",
        "suma = 5 + 3    # 8\n",
        "resta = 5 - 3   # 2\n",
        "producto = 5 * 3  # 15\n",
        "division = 5 / 3  # 1.66667\n",
        "division2 = 5 // 3 # 1\n",
        "modulo = 5 % 3   # 2\n",
        "potencia = 5 ** 3  # 125"
      ],
      "metadata": {
        "id": "WFekGPJD_JAL"
      },
      "execution_count": 6,
      "outputs": []
    },
    {
      "cell_type": "code",
      "source": [
        "# Operadores de comparación\n",
        "igual = 5 == 3  # False\n",
        "diferente = 5 != 3  # True\n",
        "mayor_que = 5 > 3  # True\n",
        "menor_que = 5 < 3  # False\n",
        "mayor_o_igual_que = 5 >= 3  # True\n",
        "menor_o_igual_que = 5 <= 3  # False\n",
        "igual"
      ],
      "metadata": {
        "colab": {
          "base_uri": "https://localhost:8080/"
        },
        "id": "YvtBnPOo_x3V",
        "outputId": "c94e8cf5-a04c-4752-f88c-fc6364827ce4"
      },
      "execution_count": 11,
      "outputs": [
        {
          "output_type": "execute_result",
          "data": {
            "text/plain": [
              "False"
            ]
          },
          "metadata": {},
          "execution_count": 11
        }
      ]
    },
    {
      "cell_type": "code",
      "source": [
        "# Operadores lógicos\n",
        "y = True and False  # False\n",
        "o = True or False  # True\n",
        "no = not True  # Fals\n",
        "False or (True and False)"
      ],
      "metadata": {
        "colab": {
          "base_uri": "https://localhost:8080/"
        },
        "id": "yDc5Pu5jADdJ",
        "outputId": "8a1f4206-5d50-4601-9771-803249b332a5"
      },
      "execution_count": 13,
      "outputs": [
        {
          "output_type": "execute_result",
          "data": {
            "text/plain": [
              "False"
            ]
          },
          "metadata": {},
          "execution_count": 13
        }
      ]
    },
    {
      "cell_type": "code",
      "source": [
        "saludo = \"Hola Mundo\"\n",
        "cita = 'Los alumnos\\n de ICO dicen: \"Hola Mundo\"'\n",
        "parrafo = \"\"\"Esto es un párrafo\n",
        "que abarca varias\n",
        "líneas\"\"\""
      ],
      "metadata": {
        "id": "dG48GeNjBOFu"
      },
      "execution_count": 18,
      "outputs": []
    },
    {
      "cell_type": "code",
      "source": [
        "print(cita)"
      ],
      "metadata": {
        "colab": {
          "base_uri": "https://localhost:8080/"
        },
        "id": "roiuFK5BBSHh",
        "outputId": "f9f8a667-55f2-48c8-f9d5-97b8fc2c9a70"
      },
      "execution_count": 16,
      "outputs": [
        {
          "output_type": "stream",
          "name": "stdout",
          "text": [
            "Los alumnos de ICO dicen: \"Hola Mundo\"\n"
          ]
        }
      ]
    },
    {
      "cell_type": "code",
      "source": [
        "def fn_uno():\n",
        "    print(\"Hola\")\n",
        " \n",
        "a, b, c = 10, \"Hola\", fn_uno\n",
        "print(a)\n",
        "print(b)\n",
        "print(c)"
      ],
      "metadata": {
        "colab": {
          "base_uri": "https://localhost:8080/"
        },
        "id": "4PkpiLsBB-wt",
        "outputId": "83bf9c76-9a55-43bc-c4ed-705f7ea93386"
      },
      "execution_count": 21,
      "outputs": [
        {
          "output_type": "stream",
          "name": "stdout",
          "text": [
            "10\n",
            "Hola\n",
            "<function fn_uno at 0x7fa2774863b0>\n"
          ]
        }
      ]
    },
    {
      "cell_type": "code",
      "source": [
        "# entrada por teclado\n",
        "nombre = input(\"Por favor, introduce tu nombre: \")\n",
        "print(f\"Hola {nombre}!\")"
      ],
      "metadata": {
        "colab": {
          "base_uri": "https://localhost:8080/"
        },
        "id": "Nr2xsa_9C_dl",
        "outputId": "96b8e321-d6ff-432e-f1cf-50e08c3260bb"
      },
      "execution_count": 23,
      "outputs": [
        {
          "output_type": "stream",
          "name": "stdout",
          "text": [
            "Por favor, introduce tu nombre: Edy\n",
            "Hola Edy!\n"
          ]
        }
      ]
    },
    {
      "cell_type": "code",
      "source": [
        "numero = int(\"20\")\n",
        "print(numero)"
      ],
      "metadata": {
        "colab": {
          "base_uri": "https://localhost:8080/"
        },
        "id": "DzOsXJWMDZKV",
        "outputId": "0f447114-dec7-462a-f602-e9d5ffd59fdc"
      },
      "execution_count": 24,
      "outputs": [
        {
          "output_type": "stream",
          "name": "stdout",
          "text": [
            "20\n"
          ]
        }
      ]
    },
    {
      "cell_type": "code",
      "source": [
        "edad = int(input(\"Introduce tu edad:\"))\n",
        "print(f\"{nombre} tiene {edad} años\")"
      ],
      "metadata": {
        "colab": {
          "base_uri": "https://localhost:8080/"
        },
        "id": "mChqntVEDqOR",
        "outputId": "3a3d401b-df01-4edb-82fa-b5f0cdde7e6e"
      },
      "execution_count": 25,
      "outputs": [
        {
          "output_type": "stream",
          "name": "stdout",
          "text": [
            "Introduce tu edad:27\n",
            "Edy tiene 27 años\n"
          ]
        }
      ]
    },
    {
      "cell_type": "code",
      "source": [
        "mensaje = \"Hola Mundo\"  # String\n",
        "edad = 20               # Integer\n",
        "pi = 3.14159            # Float\n",
        "es_mayor = True         # Boolean\n",
        "imaginario = 3 + 4j     # Imaginario\n",
        "pi * 2.0"
      ],
      "metadata": {
        "colab": {
          "base_uri": "https://localhost:8080/"
        },
        "id": "ysgi38XbEcFG",
        "outputId": "e9ad565e-aef6-493b-e88f-1e6104b1a0fc"
      },
      "execution_count": 27,
      "outputs": [
        {
          "output_type": "execute_result",
          "data": {
            "text/plain": [
              "6.28318"
            ]
          },
          "metadata": {},
          "execution_count": 27
        }
      ]
    },
    {
      "cell_type": "code",
      "source": [
        "frutas = ['limon', 'aguacate', 'fresa']\n",
        "print(frutas[2])\n",
        "print(frutas[-1])"
      ],
      "metadata": {
        "colab": {
          "base_uri": "https://localhost:8080/"
        },
        "id": "2qDMwUDcExnm",
        "outputId": "244ca1ba-568a-45e9-8cbf-05bd37e9d19d"
      },
      "execution_count": 29,
      "outputs": [
        {
          "output_type": "stream",
          "name": "stdout",
          "text": [
            "fresa\n",
            "fresa\n"
          ]
        }
      ]
    },
    {
      "cell_type": "code",
      "source": [
        "cosas = ['limon', 10, 3.1416, True, [1,2,3,4,], 'hola']\n",
        "print(cosas)"
      ],
      "metadata": {
        "colab": {
          "base_uri": "https://localhost:8080/"
        },
        "id": "ckB8s8PQFnpH",
        "outputId": "9c306bec-eb07-4150-854a-0f9bf1032e5c"
      },
      "execution_count": 31,
      "outputs": [
        {
          "output_type": "stream",
          "name": "stdout",
          "text": [
            "['limon', 10, 3.1416, True, [1, 2, 3, 4], 'hola']\n"
          ]
        }
      ]
    },
    {
      "cell_type": "markdown",
      "source": [
        "#Slicing en python\n",
        "[<inicio> : <stop> <stop> ]\n",
        "\n",
        "es la posibilidad de obtener rebanadas a partir de un tipo de datos lista o dupla, e general de iterable. un tipo de dato String es un iterable\n",
        "\n",
        "\n",
        "por defecto\n",
        "inicio = 0\n",
        "stop es igual al tamaño de variable\n",
        "step = 1"
      ],
      "metadata": {
        "id": "E7Ini8qfGCcP"
      }
    },
    {
      "cell_type": "code",
      "source": [
        "ejemplo = [1,2,3,4,5,6, 'a', 'b', 'c','d','e']\n",
        "print(ejemplo)"
      ],
      "metadata": {
        "colab": {
          "base_uri": "https://localhost:8080/"
        },
        "id": "BvX5DeZiG9Fd",
        "outputId": "8df4f863-8510-45f0-fb9f-9fc7b1855494"
      },
      "execution_count": 34,
      "outputs": [
        {
          "output_type": "stream",
          "name": "stdout",
          "text": [
            "[1, 2, 3, 4, 5, 6, 'a', 'b', 'c', 'd', 'e']\n"
          ]
        }
      ]
    },
    {
      "cell_type": "code",
      "source": [
        "rebanada = ejemplo[6:9:1]\n",
        "print(rebanada)"
      ],
      "metadata": {
        "colab": {
          "base_uri": "https://localhost:8080/"
        },
        "id": "aCROLUuRHmpq",
        "outputId": "754d2422-50d8-4752-d777-4197d9975ee7"
      },
      "execution_count": 37,
      "outputs": [
        {
          "output_type": "stream",
          "name": "stdout",
          "text": [
            "['a', 'b', 'c']\n"
          ]
        }
      ]
    },
    {
      "cell_type": "code",
      "source": [
        "frutas_dos = ('aguacates', 'limon', 'Naranja')\n",
        "print(frutas)\n",
        "print(frutas_dos)\n",
        "\n",
        "frutas[1] = 'piña'\n",
        "#frutas_dos[1] = 'piña'\n",
        "\n",
        "print(frutas[1])\n",
        "print(frutas_dos[1])\n",
        "\n",
        "print(frutas_dos[1:2:1])\n",
        "print(frutas_dos[-1])"
      ],
      "metadata": {
        "colab": {
          "base_uri": "https://localhost:8080/"
        },
        "id": "8HRd5cGlIqpM",
        "outputId": "355da000-3acf-4028-dcb2-40d1813a0e21"
      },
      "execution_count": 38,
      "outputs": [
        {
          "output_type": "stream",
          "name": "stdout",
          "text": [
            "['limon', 'aguacate', 'fresa']\n",
            "('aguacates', 'limon', 'Naranja')\n",
            "piña\n",
            "limon\n",
            "('limon',)\n",
            "Naranja\n"
          ]
        }
      ]
    },
    {
      "cell_type": "markdown",
      "source": [
        "#Diccionarios teoria \n",
        "\n",
        "1.Es un conjunto de dos pares de llaves valor \n",
        "2.Agrupados por ':'\n",
        "3.La llave siempre es de tipo String \n",
        "4.El valor puede ser de culquier tipo \n",
        "5.El sector de la forma ['llave]\n",
        "6.Mutable\n",
        "7.Se declara entre los caracteres '{'y'}'\n",
        "8.Los pares estan separados por ','"
      ],
      "metadata": {
        "id": "_U3edBN0KEd4"
      }
    },
    {
      "cell_type": "code",
      "source": [
        "alumno = {'numero_cuenta' : 1232322 , 'carrera' : 'ICO' ,\n",
        "            'direccion' : {'calle' : 'rancho seco', 'numero' : 23}\n",
        "          }"
      ],
      "metadata": {
        "id": "Ja7vsXxoLB2J"
      },
      "execution_count": 45,
      "outputs": []
    }
  ]
}